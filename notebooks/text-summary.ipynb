{
 "cells": [
  {
   "cell_type": "code",
   "id": "initial_id",
   "metadata": {
    "collapsed": true
   },
   "source": [
    "from transformers import pipeline\n",
    "from langdetect import detect\n",
    "from sentence_transformers import CrossEncoder\n",
    "\n",
    "class GrievanceSummarizer:\n",
    "    def __init__(self):\n",
    "        self.models = {\n",
    "            'en': pipeline(\"summarization\", model=\"facebook/bart-large-cnn\"),\n",
    "            'hi': pipeline(\"summarization\", model=\"ai4bharat/MultiIndicSentenceSummarization\"),\n",
    "            'ta': pipeline(\"summarization\", model=\"ai4bharat/MultiIndicSentenceSummarization\"),\n",
    "        }\n",
    "\n",
    "        self.simplifier = CrossEncoder('cross-encoder/quora-distilroberta-base')\n",
    "\n",
    "    def detect_language(self, text):\n",
    "        try:\n",
    "            lang = detect(text)\n",
    "            return 'hi' if lang == 'hi' else lang\n",
    "        except:\n",
    "            return 'en'\n",
    "\n",
    "    def summarize(self, text, max_length=50):\n",
    "        lang = self.detect_language(text)\n",
    "        summary = self.models[lang](text, max_length=max_length, min_length=30, do_sample=False)[0]['summary_text']\n",
    "        return self.simplify(summary)\n",
    "\n",
    "    def simplify(self, text, threshold=0.7):\n",
    "        # Semantic similarity check\n",
    "        simplified_versions = [\n",
    "            self._rule_based_simplify(text),\n",
    "            self._model_based_simplify(text)\n",
    "        ]\n",
    "\n",
    "        # Select best simplification\n",
    "        scores = [self.simplifier.predict((text, s)) for s in simplified_versions]\n",
    "        best_idx = scores.index(max(scores))\n",
    "        return simplified_versions[best_idx] if max(scores) > threshold else text\n",
    "\n",
    "    def _rule_based_simplify(self, text):\n",
    "        # Add domain-specific simplification rules\n",
    "        replacements = {\n",
    "            \"residential premises\": \"houses\",\n",
    "            \"municipal corporation\": \"local office\",\n",
    "            \"expeditious resolution\": \"quick fix\"\n",
    "        }\n",
    "        for k, v in replacements.items():\n",
    "            text = text.replace(k, v)\n",
    "        return text\n",
    "\n",
    "    def _model_based_simplify(self, text):\n",
    "        return pipeline(\"text2text-generation\", model=\"t5-small\")(\n",
    "            f\"simplify: {text}\",\n",
    "            max_length=100\n",
    "        )[0]['generated_text']"
   ],
   "outputs": [],
   "execution_count": null
  },
  {
   "metadata": {},
   "cell_type": "code",
   "source": "summarizer = GrievanceSummarizer()",
   "id": "f3ef83174c7b5167",
   "outputs": [],
   "execution_count": null
  },
  {
   "metadata": {},
   "cell_type": "code",
   "source": "summarizer.summarize(\"\"\"सड़क पर बड़े-बड़े potholes हो गए हैं। Last week एक scooter driver गड्ढे में गिरकर seriously injured हो गया। कृपया immediate action लें।\"\"\")",
   "id": "775a70d48ba8b8f4",
   "outputs": [],
   "execution_count": null
  }
 ],
 "metadata": {
  "kernelspec": {
   "display_name": "Python 3",
   "language": "python",
   "name": "python3"
  },
  "language_info": {
   "codemirror_mode": {
    "name": "ipython",
    "version": 2
   },
   "file_extension": ".py",
   "mimetype": "text/x-python",
   "name": "python",
   "nbconvert_exporter": "python",
   "pygments_lexer": "ipython2",
   "version": "2.7.6"
  }
 },
 "nbformat": 4,
 "nbformat_minor": 5
}
